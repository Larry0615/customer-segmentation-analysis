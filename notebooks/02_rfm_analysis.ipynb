{
 "cells": [
  {
   "cell_type": "markdown",
   "id": "2d7c3cd5-66c6-4e7f-9bba-59662981c2f1",
   "metadata": {},
   "source": [
    "## CUSTOMER SEGMENTATION ANALYSIS\n"
   ]
  },
  {
   "cell_type": "code",
   "execution_count": 10,
   "id": "bcb0f177-ad9e-49b6-8a7d-a1828ba9efbb",
   "metadata": {},
   "outputs": [
    {
     "name": "stdout",
     "output_type": "stream",
     "text": [
      "C:\\Users\\oyeor\\Documents\\GitHub\\customer-segmentation-analysis\n"
     ]
    }
   ],
   "source": [
    "# Optional code block\n",
    "# to check/change the working directory on my PC\n",
    "\n",
    "import os \n",
    "# Confirm current working directory\n",
    "print(os.getcwd())\n",
    "# to change the working directory on my PC\n",
    "os.chdir(\"C:/Users/oyeor/Documents/GitHub/customer-segmentation-analysis\")"
   ]
  },
  {
   "cell_type": "markdown",
   "id": "efab0541-777a-417b-bd0e-6f0405ffc9be",
   "metadata": {},
   "source": [
    "## 1.0 Load the Cleaned Dataset"
   ]
  },
  {
   "cell_type": "code",
   "execution_count": 11,
   "id": "58fe7966-2435-417d-8201-72bb538be545",
   "metadata": {},
   "outputs": [
    {
     "data": {
      "text/plain": [
       "(354321, 9)"
      ]
     },
     "metadata": {},
     "output_type": "display_data"
    },
    {
     "data": {
      "text/html": [
       "<div>\n",
       "<style scoped>\n",
       "    .dataframe tbody tr th:only-of-type {\n",
       "        vertical-align: middle;\n",
       "    }\n",
       "\n",
       "    .dataframe tbody tr th {\n",
       "        vertical-align: top;\n",
       "    }\n",
       "\n",
       "    .dataframe thead th {\n",
       "        text-align: right;\n",
       "    }\n",
       "</style>\n",
       "<table border=\"1\" class=\"dataframe\">\n",
       "  <thead>\n",
       "    <tr style=\"text-align: right;\">\n",
       "      <th></th>\n",
       "      <th>Invoice</th>\n",
       "      <th>StockCode</th>\n",
       "      <th>Description</th>\n",
       "      <th>Quantity</th>\n",
       "      <th>InvoiceDate</th>\n",
       "      <th>Price</th>\n",
       "      <th>CustomerID</th>\n",
       "      <th>Country</th>\n",
       "      <th>TotalPrice</th>\n",
       "    </tr>\n",
       "  </thead>\n",
       "  <tbody>\n",
       "    <tr>\n",
       "      <th>0</th>\n",
       "      <td>536365</td>\n",
       "      <td>85123A</td>\n",
       "      <td>WHITE HANGING HEART T-LIGHT HOLDER</td>\n",
       "      <td>6</td>\n",
       "      <td>2010-12-01 08:26:00</td>\n",
       "      <td>2.55</td>\n",
       "      <td>17850</td>\n",
       "      <td>United Kingdom</td>\n",
       "      <td>15.30</td>\n",
       "    </tr>\n",
       "    <tr>\n",
       "      <th>1</th>\n",
       "      <td>536365</td>\n",
       "      <td>71053</td>\n",
       "      <td>WHITE METAL LANTERN</td>\n",
       "      <td>6</td>\n",
       "      <td>2010-12-01 08:26:00</td>\n",
       "      <td>3.39</td>\n",
       "      <td>17850</td>\n",
       "      <td>United Kingdom</td>\n",
       "      <td>20.34</td>\n",
       "    </tr>\n",
       "    <tr>\n",
       "      <th>2</th>\n",
       "      <td>536365</td>\n",
       "      <td>84406B</td>\n",
       "      <td>CREAM CUPID HEARTS COAT HANGER</td>\n",
       "      <td>8</td>\n",
       "      <td>2010-12-01 08:26:00</td>\n",
       "      <td>2.75</td>\n",
       "      <td>17850</td>\n",
       "      <td>United Kingdom</td>\n",
       "      <td>22.00</td>\n",
       "    </tr>\n",
       "    <tr>\n",
       "      <th>3</th>\n",
       "      <td>536365</td>\n",
       "      <td>84029G</td>\n",
       "      <td>KNITTED UNION FLAG HOT WATER BOTTLE</td>\n",
       "      <td>6</td>\n",
       "      <td>2010-12-01 08:26:00</td>\n",
       "      <td>3.39</td>\n",
       "      <td>17850</td>\n",
       "      <td>United Kingdom</td>\n",
       "      <td>20.34</td>\n",
       "    </tr>\n",
       "    <tr>\n",
       "      <th>4</th>\n",
       "      <td>536365</td>\n",
       "      <td>84029E</td>\n",
       "      <td>RED WOOLLY HOTTIE WHITE HEART.</td>\n",
       "      <td>6</td>\n",
       "      <td>2010-12-01 08:26:00</td>\n",
       "      <td>3.39</td>\n",
       "      <td>17850</td>\n",
       "      <td>United Kingdom</td>\n",
       "      <td>20.34</td>\n",
       "    </tr>\n",
       "  </tbody>\n",
       "</table>\n",
       "</div>"
      ],
      "text/plain": [
       "   Invoice StockCode                          Description  Quantity  \\\n",
       "0   536365    85123A   WHITE HANGING HEART T-LIGHT HOLDER         6   \n",
       "1   536365     71053                  WHITE METAL LANTERN         6   \n",
       "2   536365    84406B       CREAM CUPID HEARTS COAT HANGER         8   \n",
       "3   536365    84029G  KNITTED UNION FLAG HOT WATER BOTTLE         6   \n",
       "4   536365    84029E       RED WOOLLY HOTTIE WHITE HEART.         6   \n",
       "\n",
       "          InvoiceDate  Price  CustomerID         Country  TotalPrice  \n",
       "0 2010-12-01 08:26:00   2.55       17850  United Kingdom       15.30  \n",
       "1 2010-12-01 08:26:00   3.39       17850  United Kingdom       20.34  \n",
       "2 2010-12-01 08:26:00   2.75       17850  United Kingdom       22.00  \n",
       "3 2010-12-01 08:26:00   3.39       17850  United Kingdom       20.34  \n",
       "4 2010-12-01 08:26:00   3.39       17850  United Kingdom       20.34  "
      ]
     },
     "metadata": {},
     "output_type": "display_data"
    }
   ],
   "source": [
    "import pandas as pd\n",
    "\n",
    "df = pd.read_csv(\"data/processed/online_retail_cleaned.csv\", parse_dates = [\"InvoiceDate\"])\n",
    "display(df.shape, df.head())"
   ]
  },
  {
   "cell_type": "code",
   "execution_count": 12,
   "id": "d609abf5-5237-445b-a00b-e10571a00d0e",
   "metadata": {},
   "outputs": [
    {
     "name": "stdout",
     "output_type": "stream",
     "text": [
      "<class 'pandas.core.frame.DataFrame'>\n",
      "RangeIndex: 354321 entries, 0 to 354320\n",
      "Data columns (total 9 columns):\n",
      " #   Column       Non-Null Count   Dtype         \n",
      "---  ------       --------------   -----         \n",
      " 0   Invoice      354321 non-null  int64         \n",
      " 1   StockCode    354321 non-null  object        \n",
      " 2   Description  354321 non-null  object        \n",
      " 3   Quantity     354321 non-null  int64         \n",
      " 4   InvoiceDate  354321 non-null  datetime64[ns]\n",
      " 5   Price        354321 non-null  float64       \n",
      " 6   CustomerID   354321 non-null  int64         \n",
      " 7   Country      354321 non-null  object        \n",
      " 8   TotalPrice   354321 non-null  float64       \n",
      "dtypes: datetime64[ns](1), float64(2), int64(3), object(3)\n",
      "memory usage: 24.3+ MB\n"
     ]
    }
   ],
   "source": [
    "df.info()   # check data type and missing values"
   ]
  },
  {
   "cell_type": "markdown",
   "id": "798ede38-0499-4398-99cd-6554d04680a2",
   "metadata": {},
   "source": [
    "## 2.0 RFM (Recency, Frequency & Monetary)"
   ]
  },
  {
   "cell_type": "code",
   "execution_count": 23,
   "id": "6ad7a8e5-6955-4f7b-b048-91f0c30000f4",
   "metadata": {},
   "outputs": [
    {
     "name": "stdout",
     "output_type": "stream",
     "text": [
      "Reference date for Recency: 2011-12-09 12:49:00\n"
     ]
    }
   ],
   "source": [
    "# Set reference date \n",
    "\n",
    "reference_date = df[\"InvoiceDate\"].max()\n",
    "print(f\"Reference date for Recency: {reference_date}\")  # date we are measuring from "
   ]
  },
  {
   "cell_type": "code",
   "execution_count": 24,
   "id": "728e0917-2539-4c53-a873-40bfefd59818",
   "metadata": {},
   "outputs": [],
   "source": [
    "# RFM calculation\n",
    "\n",
    "rfm = df.groupby(\"CustomerID\").agg({\n",
    "    \"InvoiceDate\" : lambda x: (reference_date - x.max()).days,\n",
    "    \"Invoice\" : \"nunique\",\n",
    "    \"TotalPrice\" : \"sum\"\n",
    "}).reset_index()"
   ]
  },
  {
   "cell_type": "code",
   "execution_count": 25,
   "id": "c7df443f-f666-4cec-a2f3-15c5079bf729",
   "metadata": {},
   "outputs": [
    {
     "data": {
      "text/html": [
       "<div>\n",
       "<style scoped>\n",
       "    .dataframe tbody tr th:only-of-type {\n",
       "        vertical-align: middle;\n",
       "    }\n",
       "\n",
       "    .dataframe tbody tr th {\n",
       "        vertical-align: top;\n",
       "    }\n",
       "\n",
       "    .dataframe thead th {\n",
       "        text-align: right;\n",
       "    }\n",
       "</style>\n",
       "<table border=\"1\" class=\"dataframe\">\n",
       "  <thead>\n",
       "    <tr style=\"text-align: right;\">\n",
       "      <th></th>\n",
       "      <th>CustomerID</th>\n",
       "      <th>Recency</th>\n",
       "      <th>Frequency</th>\n",
       "      <th>Monetary</th>\n",
       "    </tr>\n",
       "  </thead>\n",
       "  <tbody>\n",
       "    <tr>\n",
       "      <th>0</th>\n",
       "      <td>12346</td>\n",
       "      <td>325</td>\n",
       "      <td>1</td>\n",
       "      <td>77183.60</td>\n",
       "    </tr>\n",
       "    <tr>\n",
       "      <th>1</th>\n",
       "      <td>12747</td>\n",
       "      <td>1</td>\n",
       "      <td>11</td>\n",
       "      <td>4196.01</td>\n",
       "    </tr>\n",
       "    <tr>\n",
       "      <th>2</th>\n",
       "      <td>12748</td>\n",
       "      <td>0</td>\n",
       "      <td>209</td>\n",
       "      <td>33719.73</td>\n",
       "    </tr>\n",
       "    <tr>\n",
       "      <th>3</th>\n",
       "      <td>12749</td>\n",
       "      <td>3</td>\n",
       "      <td>5</td>\n",
       "      <td>4090.88</td>\n",
       "    </tr>\n",
       "    <tr>\n",
       "      <th>4</th>\n",
       "      <td>12820</td>\n",
       "      <td>2</td>\n",
       "      <td>4</td>\n",
       "      <td>942.34</td>\n",
       "    </tr>\n",
       "  </tbody>\n",
       "</table>\n",
       "</div>"
      ],
      "text/plain": [
       "   CustomerID  Recency  Frequency  Monetary\n",
       "0       12346      325          1  77183.60\n",
       "1       12747        1         11   4196.01\n",
       "2       12748        0        209  33719.73\n",
       "3       12749        3          5   4090.88\n",
       "4       12820        2          4    942.34"
      ]
     },
     "execution_count": 25,
     "metadata": {},
     "output_type": "execute_result"
    }
   ],
   "source": [
    "# Rename columns\n",
    "\n",
    "rfm.columns = [\"CustomerID\", \"Recency\", \"Frequency\", \"Monetary\"]\n",
    "rfm.head()"
   ]
  },
  {
   "cell_type": "code",
   "execution_count": 26,
   "id": "21f0016e-48bf-41e4-8af5-16c677bd7877",
   "metadata": {},
   "outputs": [],
   "source": [
    "# Save processed data for clustering\n",
    "\n",
    "rfm.to_csv(\"data/processed/rfm_metrics.csv\", index = False)"
   ]
  },
  {
   "cell_type": "code",
   "execution_count": null,
   "id": "7b96e0dc-a8ae-478c-a3fb-4b59ee81f814",
   "metadata": {},
   "outputs": [],
   "source": []
  }
 ],
 "metadata": {
  "kernelspec": {
   "display_name": "Python 3 (ipykernel)",
   "language": "python",
   "name": "python3"
  },
  "language_info": {
   "codemirror_mode": {
    "name": "ipython",
    "version": 3
   },
   "file_extension": ".py",
   "mimetype": "text/x-python",
   "name": "python",
   "nbconvert_exporter": "python",
   "pygments_lexer": "ipython3",
   "version": "3.13.2"
  }
 },
 "nbformat": 4,
 "nbformat_minor": 5
}
