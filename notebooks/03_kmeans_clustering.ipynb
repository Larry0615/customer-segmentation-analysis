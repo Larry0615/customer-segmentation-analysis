{
 "cells": [
  {
   "cell_type": "markdown",
   "id": "21b328b4-a6b4-43a6-976d-8d0d45402a67",
   "metadata": {},
   "source": [
    "# CUSTOMER SEGMENTATION ANALYSIS\n",
    "###### *Goal :- Segment customers based on RFM features using KMeans clustering.*"
   ]
  },
  {
   "cell_type": "code",
   "execution_count": 2,
   "id": "2d50dba5-bbbc-4107-903a-b3f695bc0b00",
   "metadata": {},
   "outputs": [
    {
     "name": "stdout",
     "output_type": "stream",
     "text": [
      "C:\\Users\\oyeor\\Documents\\GitHub\\customer-segmentation-analysis\n"
     ]
    }
   ],
   "source": [
    "# Optional code block\n",
    "# to check/change the working directory on my PC\n",
    "\n",
    "import os \n",
    "# Confirm current working directory\n",
    "print(os.getcwd())\n",
    "# to change the working directory on my PC\n",
    "os.chdir(\"C:/Users/oyeor/Documents/GitHub/customer-segmentation-analysis\")"
   ]
  },
  {
   "cell_type": "markdown",
   "id": "784ffe5e-dcca-4352-93f9-96692224c11e",
   "metadata": {},
   "source": [
    "## 1.0 Load The RFM Data\n",
    "###### *We start with Recency, Frequency, and Monetary scores already engineered.*"
   ]
  },
  {
   "cell_type": "code",
   "execution_count": 3,
   "id": "4a71fc7a-eedf-46bd-bd69-c0c4231211ab",
   "metadata": {},
   "outputs": [
    {
     "data": {
      "text/html": [
       "<div>\n",
       "<style scoped>\n",
       "    .dataframe tbody tr th:only-of-type {\n",
       "        vertical-align: middle;\n",
       "    }\n",
       "\n",
       "    .dataframe tbody tr th {\n",
       "        vertical-align: top;\n",
       "    }\n",
       "\n",
       "    .dataframe thead th {\n",
       "        text-align: right;\n",
       "    }\n",
       "</style>\n",
       "<table border=\"1\" class=\"dataframe\">\n",
       "  <thead>\n",
       "    <tr style=\"text-align: right;\">\n",
       "      <th></th>\n",
       "      <th>CustomerID</th>\n",
       "      <th>Recency</th>\n",
       "      <th>Frequency</th>\n",
       "      <th>Monetary</th>\n",
       "    </tr>\n",
       "  </thead>\n",
       "  <tbody>\n",
       "    <tr>\n",
       "      <th>0</th>\n",
       "      <td>12346</td>\n",
       "      <td>325</td>\n",
       "      <td>1</td>\n",
       "      <td>77183.60</td>\n",
       "    </tr>\n",
       "    <tr>\n",
       "      <th>1</th>\n",
       "      <td>12747</td>\n",
       "      <td>1</td>\n",
       "      <td>11</td>\n",
       "      <td>4196.01</td>\n",
       "    </tr>\n",
       "    <tr>\n",
       "      <th>2</th>\n",
       "      <td>12748</td>\n",
       "      <td>0</td>\n",
       "      <td>209</td>\n",
       "      <td>33719.73</td>\n",
       "    </tr>\n",
       "    <tr>\n",
       "      <th>3</th>\n",
       "      <td>12749</td>\n",
       "      <td>3</td>\n",
       "      <td>5</td>\n",
       "      <td>4090.88</td>\n",
       "    </tr>\n",
       "    <tr>\n",
       "      <th>4</th>\n",
       "      <td>12820</td>\n",
       "      <td>2</td>\n",
       "      <td>4</td>\n",
       "      <td>942.34</td>\n",
       "    </tr>\n",
       "  </tbody>\n",
       "</table>\n",
       "</div>"
      ],
      "text/plain": [
       "   CustomerID  Recency  Frequency  Monetary\n",
       "0       12346      325          1  77183.60\n",
       "1       12747        1         11   4196.01\n",
       "2       12748        0        209  33719.73\n",
       "3       12749        3          5   4090.88\n",
       "4       12820        2          4    942.34"
      ]
     },
     "execution_count": 3,
     "metadata": {},
     "output_type": "execute_result"
    }
   ],
   "source": [
    "import pandas as pd\n",
    "\n",
    "rfm = pd.read_csv(\"data/processed/rfm_metrics.csv\")\n",
    "rfm.head()"
   ]
  },
  {
   "cell_type": "code",
   "execution_count": 4,
   "id": "ff231cc5-5ea4-40fb-8094-0947a288a29b",
   "metadata": {},
   "outputs": [
    {
     "data": {
      "text/html": [
       "<div>\n",
       "<style scoped>\n",
       "    .dataframe tbody tr th:only-of-type {\n",
       "        vertical-align: middle;\n",
       "    }\n",
       "\n",
       "    .dataframe tbody tr th {\n",
       "        vertical-align: top;\n",
       "    }\n",
       "\n",
       "    .dataframe thead th {\n",
       "        text-align: right;\n",
       "    }\n",
       "</style>\n",
       "<table border=\"1\" class=\"dataframe\">\n",
       "  <thead>\n",
       "    <tr style=\"text-align: right;\">\n",
       "      <th></th>\n",
       "      <th>CustomerID</th>\n",
       "      <th>Recency</th>\n",
       "      <th>Frequency</th>\n",
       "      <th>Monetary</th>\n",
       "    </tr>\n",
       "  </thead>\n",
       "  <tbody>\n",
       "    <tr>\n",
       "      <th>count</th>\n",
       "      <td>3920.000000</td>\n",
       "      <td>3920.000000</td>\n",
       "      <td>3920.000000</td>\n",
       "      <td>3920.000000</td>\n",
       "    </tr>\n",
       "    <tr>\n",
       "      <th>mean</th>\n",
       "      <td>15562.059694</td>\n",
       "      <td>91.208418</td>\n",
       "      <td>4.246429</td>\n",
       "      <td>1864.385601</td>\n",
       "    </tr>\n",
       "    <tr>\n",
       "      <th>std</th>\n",
       "      <td>1576.594671</td>\n",
       "      <td>99.533854</td>\n",
       "      <td>7.199202</td>\n",
       "      <td>7482.817477</td>\n",
       "    </tr>\n",
       "    <tr>\n",
       "      <th>min</th>\n",
       "      <td>12346.000000</td>\n",
       "      <td>0.000000</td>\n",
       "      <td>1.000000</td>\n",
       "      <td>3.750000</td>\n",
       "    </tr>\n",
       "    <tr>\n",
       "      <th>25%</th>\n",
       "      <td>14208.750000</td>\n",
       "      <td>17.000000</td>\n",
       "      <td>1.000000</td>\n",
       "      <td>300.280000</td>\n",
       "    </tr>\n",
       "    <tr>\n",
       "      <th>50%</th>\n",
       "      <td>15569.500000</td>\n",
       "      <td>50.000000</td>\n",
       "      <td>2.000000</td>\n",
       "      <td>652.280000</td>\n",
       "    </tr>\n",
       "    <tr>\n",
       "      <th>75%</th>\n",
       "      <td>16913.250000</td>\n",
       "      <td>142.000000</td>\n",
       "      <td>5.000000</td>\n",
       "      <td>1576.585000</td>\n",
       "    </tr>\n",
       "    <tr>\n",
       "      <th>max</th>\n",
       "      <td>18287.000000</td>\n",
       "      <td>373.000000</td>\n",
       "      <td>209.000000</td>\n",
       "      <td>259657.300000</td>\n",
       "    </tr>\n",
       "  </tbody>\n",
       "</table>\n",
       "</div>"
      ],
      "text/plain": [
       "         CustomerID      Recency    Frequency       Monetary\n",
       "count   3920.000000  3920.000000  3920.000000    3920.000000\n",
       "mean   15562.059694    91.208418     4.246429    1864.385601\n",
       "std     1576.594671    99.533854     7.199202    7482.817477\n",
       "min    12346.000000     0.000000     1.000000       3.750000\n",
       "25%    14208.750000    17.000000     1.000000     300.280000\n",
       "50%    15569.500000    50.000000     2.000000     652.280000\n",
       "75%    16913.250000   142.000000     5.000000    1576.585000\n",
       "max    18287.000000   373.000000   209.000000  259657.300000"
      ]
     },
     "execution_count": 4,
     "metadata": {},
     "output_type": "execute_result"
    }
   ],
   "source": [
    "# Quick check \n",
    "\n",
    "rfm.describe()"
   ]
  },
  {
   "cell_type": "code",
   "execution_count": 5,
   "id": "f9d7c332-38e7-4e4f-981b-e3d2935e76d3",
   "metadata": {},
   "outputs": [
    {
     "data": {
      "text/plain": [
       "array([[<Axes: title={'center': 'CustomerID'}>,\n",
       "        <Axes: title={'center': 'Recency'}>],\n",
       "       [<Axes: title={'center': 'Frequency'}>,\n",
       "        <Axes: title={'center': 'Monetary'}>]], dtype=object)"
      ]
     },
     "execution_count": 5,
     "metadata": {},
     "output_type": "execute_result"
    },
    {
     "data": {
      "image/png": "[encoded data removed]",
      "text/plain": [
       "<Figure size 1200x600 with 4 Axes>"
      ]
     },
     "metadata": {},
     "output_type": "display_data"
    }
   ],
   "source": [
    "# Quick visual to give a feel of the rfm data distribution(skew)\n",
    "\n",
    "rfm.hist(figsize = (12,6))"
   ]
  },
  {
   "cell_type": "markdown",
   "id": "91f3718a-4a96-453e-9d53-f2f8d424d899",
   "metadata": {},
   "source": [
    "###### *The data is observed to be skewed to the right in some columns(Recency, Frequency & Monetary) which could function as an outlier*"
   ]
  },
  {
   "cell_type": "markdown",
   "id": "951dc627-133d-4dfc-83f3-94329a7bc415",
   "metadata": {},
   "source": [
    "## 2.0. Normalize Features\n",
    "###### *KMeans uses Euclidean distance, so we must scale features otherwise a large Monetary Value(Skewed) for example would dominate i.e KMeans requires standardized data since it’s distance-based.*"
   ]
  },
  {
   "cell_type": "code",
   "execution_count": 8,
   "id": "20fed0a8-ad67-436c-90b5-92b5786b2b33",
   "metadata": {},
   "outputs": [
    {
     "name": "stderr",
     "output_type": "stream",
     "text": [
      "\n",
      "[notice] A new release of pip is available: 25.0.1 -> 25.1.1\n",
      "[notice] To update, run: python.exe -m pip install --upgrade pip\n"
     ]
    }
   ],
   "source": [
    "# Install library and import module\n",
    "\n",
    "!pip install -q scikit-learn\n",
    "from sklearn.preprocessing import StandardScaler"
   ]
  },
  {
   "cell_type": "code",
   "execution_count": 9,
   "id": "4c893dd1-8a9e-4255-a8c6-fc9bd79698d5",
   "metadata": {},
   "outputs": [],
   "source": [
    "# Copy for clustering\n",
    "rfm_clustering = rfm[[\"Recency\", \"Frequency\", \"Monetary\"]]\n",
    "\n",
    "# Scale using Scaler \n",
    "scaler = StandardScaler()\n",
    "rfm_scaled = scaler.fit_transform(rfm_clustering)\n",
    "\n",
    "# We use StandardScaler because it centers the data (mean = 0, std = 1)\n",
    "# ... thereby making all features comparable."
   ]
  },
  {
   "cell_type": "markdown",
   "id": "bf0bd588-caa0-40e2-8aff-0a975596c528",
   "metadata": {},
   "source": [
    "## 3.0. Find The Optimal K (Using the Elbow Method)\n",
    "###### *We use the Wthin-Cluster sum of squares(WCSS) to find the point where more clusters don't improve things much i.e to determine the optimal number of customer segments.*"
   ]
  },
  {
   "cell_type": "code",
   "execution_count": 13,
   "id": "dfb20745-ed09-4e93-96a2-05e81daf8849",
   "metadata": {},
   "outputs": [
    {
     "data": {
      "image/png": "[encoded data removed]",
      "text/plain": [
       "<Figure size 800x400 with 1 Axes>"
      ]
     },
     "metadata": {},
     "output_type": "display_data"
    }
   ],
   "source": [
    "from sklearn.cluster import KMeans\n",
    "import matplotlib.pyplot as plt\n",
    "\n",
    "wcss = []\n",
    "\n",
    "# Try k from 1 to 10\n",
    "for k in range(1,11):\n",
    "    kmeans = KMeans(n_clusters = k, random_state = 42, n_init = \"auto\")\n",
    "    kmeans.fit(rfm_scaled)\n",
    "    wcss.append(kmeans.inertia_)   # inertia = WCSS\n",
    "\n",
    "# Plot\n",
    "plt.figure(figsize = (8,4))\n",
    "plt.plot(range(1,11), wcss, marker = \"o\")\n",
    "plt.title(\"Elbow Method For k\")\n",
    "plt.xlabel(\"Number of Clusters\")\n",
    "plt.ylabel(\"WCSS\")\n",
    "plt.grid(True)\n",
    "plt.show()"
   ]
  },
  {
   "cell_type": "markdown",
   "id": "d9e1a9b0-41b9-452d-b532-d02594828241",
   "metadata": {},
   "source": [
    "## 4.0. Fit Kmeans Model\n",
    "###### *We apply KMeans with the chosen `k` and assign each customer a segment.*"
   ]
  },
  {
   "cell_type": "code",
   "execution_count": 14,
   "id": "013ee2e8-04cb-4aa4-a42a-38b714bffd33",
   "metadata": {},
   "outputs": [],
   "source": [
    "# Fit KMeans\n",
    "\n",
    "kmeans = KMeans(n_clusters = 4, random_state = 42, n_init = \"auto\")\n",
    "rfm[\"Cluster\"] = kmeans.fit_predict(rfm_scaled)"
   ]
  },
  {
   "cell_type": "code",
   "execution_count": 15,
   "id": "5cebebca-f00d-41ab-9070-b06c8acf2c7d",
   "metadata": {},
   "outputs": [
    {
     "data": {
      "text/html": [
       "<div>\n",
       "<style scoped>\n",
       "    .dataframe tbody tr th:only-of-type {\n",
       "        vertical-align: middle;\n",
       "    }\n",
       "\n",
       "    .dataframe tbody tr th {\n",
       "        vertical-align: top;\n",
       "    }\n",
       "\n",
       "    .dataframe thead th {\n",
       "        text-align: right;\n",
       "    }\n",
       "</style>\n",
       "<table border=\"1\" class=\"dataframe\">\n",
       "  <thead>\n",
       "    <tr style=\"text-align: right;\">\n",
       "      <th></th>\n",
       "      <th>CustomerID</th>\n",
       "      <th>Recency</th>\n",
       "      <th>Frequency</th>\n",
       "      <th>Monetary</th>\n",
       "      <th>Cluster</th>\n",
       "    </tr>\n",
       "  </thead>\n",
       "  <tbody>\n",
       "    <tr>\n",
       "      <th>0</th>\n",
       "      <td>12346</td>\n",
       "      <td>325</td>\n",
       "      <td>1</td>\n",
       "      <td>77183.60</td>\n",
       "      <td>2</td>\n",
       "    </tr>\n",
       "    <tr>\n",
       "      <th>1</th>\n",
       "      <td>12747</td>\n",
       "      <td>1</td>\n",
       "      <td>11</td>\n",
       "      <td>4196.01</td>\n",
       "      <td>3</td>\n",
       "    </tr>\n",
       "    <tr>\n",
       "      <th>2</th>\n",
       "      <td>12748</td>\n",
       "      <td>0</td>\n",
       "      <td>209</td>\n",
       "      <td>33719.73</td>\n",
       "      <td>2</td>\n",
       "    </tr>\n",
       "    <tr>\n",
       "      <th>3</th>\n",
       "      <td>12749</td>\n",
       "      <td>3</td>\n",
       "      <td>5</td>\n",
       "      <td>4090.88</td>\n",
       "      <td>1</td>\n",
       "    </tr>\n",
       "    <tr>\n",
       "      <th>4</th>\n",
       "      <td>12820</td>\n",
       "      <td>2</td>\n",
       "      <td>4</td>\n",
       "      <td>942.34</td>\n",
       "      <td>1</td>\n",
       "    </tr>\n",
       "  </tbody>\n",
       "</table>\n",
       "</div>"
      ],
      "text/plain": [
       "   CustomerID  Recency  Frequency  Monetary  Cluster\n",
       "0       12346      325          1  77183.60        2\n",
       "1       12747        1         11   4196.01        3\n",
       "2       12748        0        209  33719.73        2\n",
       "3       12749        3          5   4090.88        1\n",
       "4       12820        2          4    942.34        1"
      ]
     },
     "execution_count": 15,
     "metadata": {},
     "output_type": "execute_result"
    }
   ],
   "source": [
    "rfm.head()"
   ]
  },
  {
   "cell_type": "markdown",
   "id": "bb2be084-e8ce-40b6-a8e6-331f3b7338ad",
   "metadata": {},
   "source": [
    "## 5.0 Profile the Segments\n",
    "###### *Group customers by their assigned cluster and inspect behavior*"
   ]
  },
  {
   "cell_type": "code",
   "execution_count": 18,
   "id": "48aa1d13-ce75-44f8-8eaa-3b194b0f85d2",
   "metadata": {},
   "outputs": [
    {
     "data": {
      "text/html": [
       "<div>\n",
       "<style scoped>\n",
       "    .dataframe tbody tr th:only-of-type {\n",
       "        vertical-align: middle;\n",
       "    }\n",
       "\n",
       "    .dataframe tbody tr th {\n",
       "        vertical-align: top;\n",
       "    }\n",
       "\n",
       "    .dataframe thead th {\n",
       "        text-align: right;\n",
       "    }\n",
       "</style>\n",
       "<table border=\"1\" class=\"dataframe\">\n",
       "  <thead>\n",
       "    <tr style=\"text-align: right;\">\n",
       "      <th></th>\n",
       "      <th>Recency</th>\n",
       "      <th>Frequency</th>\n",
       "      <th>Monetary</th>\n",
       "      <th>NumCustomers</th>\n",
       "    </tr>\n",
       "    <tr>\n",
       "      <th>Cluster</th>\n",
       "      <th></th>\n",
       "      <th></th>\n",
       "      <th></th>\n",
       "      <th></th>\n",
       "    </tr>\n",
       "  </thead>\n",
       "  <tbody>\n",
       "    <tr>\n",
       "      <th>0</th>\n",
       "      <td>246.0</td>\n",
       "      <td>1.6</td>\n",
       "      <td>437.9</td>\n",
       "      <td>963</td>\n",
       "    </tr>\n",
       "    <tr>\n",
       "      <th>1</th>\n",
       "      <td>43.8</td>\n",
       "      <td>3.3</td>\n",
       "      <td>1139.5</td>\n",
       "      <td>2645</td>\n",
       "    </tr>\n",
       "    <tr>\n",
       "      <th>2</th>\n",
       "      <td>18.4</td>\n",
       "      <td>59.9</td>\n",
       "      <td>71494.4</td>\n",
       "      <td>23</td>\n",
       "    </tr>\n",
       "    <tr>\n",
       "      <th>3</th>\n",
       "      <td>15.6</td>\n",
       "      <td>17.2</td>\n",
       "      <td>7710.3</td>\n",
       "      <td>289</td>\n",
       "    </tr>\n",
       "  </tbody>\n",
       "</table>\n",
       "</div>"
      ],
      "text/plain": [
       "         Recency  Frequency  Monetary  NumCustomers\n",
       "Cluster                                            \n",
       "0          246.0        1.6     437.9           963\n",
       "1           43.8        3.3    1139.5          2645\n",
       "2           18.4       59.9   71494.4            23\n",
       "3           15.6       17.2    7710.3           289"
      ]
     },
     "execution_count": 18,
     "metadata": {},
     "output_type": "execute_result"
    }
   ],
   "source": [
    "rfm.groupby(\"Cluster\").agg({\n",
    "    \"Recency\" : \"mean\",\n",
    "    \"Frequency\" : \"mean\",\n",
    "    \"Monetary\" : \"mean\",\n",
    "    \"CustomerID\" : \"count\"\n",
    "}).rename(columns = {\"CustomerID\" : \"NumCustomers\"}).round(1)"
   ]
  },
  {
   "cell_type": "markdown",
   "id": "e262dd11-31e3-4627-a998-572ebcc1b486",
   "metadata": {},
   "source": [
    "Cluster profile summary after clustering customers using their Recency, Frequency, and Monetary scores, four clear groups emerged : \n",
    "* Cluster 0 – Dormant or At-Risk Customers\n",
    "These customers haven’t made a purchase in a long time and they don’t spend much either. They’re likely inactive or have already churned. Re-engagement campaigns might help, but they may also be a lower priority.\n",
    "\n",
    "* Cluster 1 – Occasional / Average Shoppers\n",
    "This is the largest group. They buy now and then, spend a modest amount, and aren't very frequent. They’re stable but not particularly valuable yet — with the right promotions, there’s potential to turn some of them into more loyal customers.\n",
    "\n",
    "\n",
    "* Cluster 2 – VIP / Power Customers\n",
    "This group is tiny, but incredibly valuable. They buy very often and spend a huge amount. These are the top 1%—it’s critical to keep them happy with special offers, personalized service, or loyalty perks.\n",
    "\n",
    "\n",
    "* Cluster 3 – Loyal / High-Value Customers\n",
    "They’re active, frequent buyers who spend a lot — not quite VIP level, but still very important. This group is larger than the VIPs and makes up a strong core of repeat customers. Definitely worth retaining and rewarding."
   ]
  },
  {
   "cell_type": "markdown",
   "id": "b5c96737-f492-4c73-9685-5601acc53b5d",
   "metadata": {},
   "source": [
    "In summary, this segmentation helps us take action:\n",
    "* Try to win back the dormant group\n",
    "* Encourage occasional shoppers to engage more\n",
    "* Protect and reward the VIPs and loyal customers "
   ]
  },
  {
   "cell_type": "markdown",
   "id": "bf870db4-e9c4-485c-8828-f21d06d238be",
   "metadata": {},
   "source": [
    "## 6.0 Save Results\n",
    "###### *We export this data for use in Power BI and and further insights*"
   ]
  },
  {
   "cell_type": "code",
   "execution_count": 20,
   "id": "91a33370-b838-4470-a548-e76ac9ac1c6f",
   "metadata": {},
   "outputs": [],
   "source": [
    "# Save the rfm with clusters data\n",
    "\n",
    "rfm.to_csv('data/processed/rfm_with_clusters.csv', index=False)"
   ]
  },
  {
   "cell_type": "code",
   "execution_count": 24,
   "id": "92aa824d-32a8-4fe5-a143-fbdfc0de3065",
   "metadata": {},
   "outputs": [
    {
     "data": {
      "text/html": [
       "<div>\n",
       "<style scoped>\n",
       "    .dataframe tbody tr th:only-of-type {\n",
       "        vertical-align: middle;\n",
       "    }\n",
       "\n",
       "    .dataframe tbody tr th {\n",
       "        vertical-align: top;\n",
       "    }\n",
       "\n",
       "    .dataframe thead th {\n",
       "        text-align: right;\n",
       "    }\n",
       "</style>\n",
       "<table border=\"1\" class=\"dataframe\">\n",
       "  <thead>\n",
       "    <tr style=\"text-align: right;\">\n",
       "      <th></th>\n",
       "      <th>CustomerID</th>\n",
       "      <th>Recency</th>\n",
       "      <th>Frequency</th>\n",
       "      <th>Monetary</th>\n",
       "      <th>Cluster</th>\n",
       "      <th>Segment</th>\n",
       "    </tr>\n",
       "  </thead>\n",
       "  <tbody>\n",
       "    <tr>\n",
       "      <th>0</th>\n",
       "      <td>12346</td>\n",
       "      <td>325</td>\n",
       "      <td>1</td>\n",
       "      <td>77183.60</td>\n",
       "      <td>2</td>\n",
       "      <td>Champion</td>\n",
       "    </tr>\n",
       "    <tr>\n",
       "      <th>1</th>\n",
       "      <td>12747</td>\n",
       "      <td>1</td>\n",
       "      <td>11</td>\n",
       "      <td>4196.01</td>\n",
       "      <td>3</td>\n",
       "      <td>Loyal</td>\n",
       "    </tr>\n",
       "    <tr>\n",
       "      <th>2</th>\n",
       "      <td>12748</td>\n",
       "      <td>0</td>\n",
       "      <td>209</td>\n",
       "      <td>33719.73</td>\n",
       "      <td>2</td>\n",
       "      <td>Champion</td>\n",
       "    </tr>\n",
       "    <tr>\n",
       "      <th>3</th>\n",
       "      <td>12749</td>\n",
       "      <td>3</td>\n",
       "      <td>5</td>\n",
       "      <td>4090.88</td>\n",
       "      <td>1</td>\n",
       "      <td>Potential Loyalist</td>\n",
       "    </tr>\n",
       "    <tr>\n",
       "      <th>4</th>\n",
       "      <td>12820</td>\n",
       "      <td>2</td>\n",
       "      <td>4</td>\n",
       "      <td>942.34</td>\n",
       "      <td>1</td>\n",
       "      <td>Potential Loyalist</td>\n",
       "    </tr>\n",
       "  </tbody>\n",
       "</table>\n",
       "</div>"
      ],
      "text/plain": [
       "   CustomerID  Recency  Frequency  Monetary  Cluster             Segment\n",
       "0       12346      325          1  77183.60        2            Champion\n",
       "1       12747        1         11   4196.01        3               Loyal\n",
       "2       12748        0        209  33719.73        2            Champion\n",
       "3       12749        3          5   4090.88        1  Potential Loyalist\n",
       "4       12820        2          4    942.34        1  Potential Loyalist"
      ]
     },
     "execution_count": 24,
     "metadata": {},
     "output_type": "execute_result"
    }
   ],
   "source": [
    "# segment/label the customers\n",
    "\n",
    "rfm[\"Segment\"] = rfm[\"Cluster\"].map({\n",
    "    0 : \"Churn Risk\",\n",
    "    1 : \"Potential Loyalist\",\n",
    "    2 : \"Champion\",\n",
    "    3 : \"Loyal\"\n",
    "})\n",
    "\n",
    "# quick view of the data\n",
    "\n",
    "rfm.head()"
   ]
  },
  {
   "cell_type": "code",
   "execution_count": 25,
   "id": "f7f2104c-e0a2-4486-9ade-979072dc739f",
   "metadata": {},
   "outputs": [],
   "source": [
    "# Save the rfm with segments data for power BI\n",
    "\n",
    "rfm.to_csv(\"data/processed/rfm_with_segments.csv\", index = False)"
   ]
  },
  {
   "cell_type": "code",
   "execution_count": 32,
   "id": "25937059-1ffe-4a2b-9596-06116f41dbe1",
   "metadata": {},
   "outputs": [
    {
     "name": "stdout",
     "output_type": "stream",
     "text": [
      "Recency        91.21\n",
      "Frequency       4.25\n",
      "Monetary     1864.39\n",
      "dtype: float64\n"
     ]
    }
   ],
   "source": [
    "# This is to confirm KPI card in Power BI\n",
    "rfm_summary = rfm.agg({\n",
    "    \"Recency\" : \"mean\",\n",
    "    \"Frequency\" : \"mean\",\n",
    "    \"Monetary\" : \"mean\"\n",
    "}).round(2)\n",
    "\n",
    "print(rfm_summary)"
   ]
  },
  {
   "cell_type": "code",
   "execution_count": null,
   "id": "7aa6da23-b660-49bf-8bd4-1b869ac6c6ec",
   "metadata": {},
   "outputs": [],
   "source": []
  }
 ],
 "metadata": {
  "kernelspec": {
   "display_name": "Python 3 (ipykernel)",
   "language": "python",
   "name": "python3"
  },
  "language_info": {
   "codemirror_mode": {
    "name": "ipython",
    "version": 3
   },
   "file_extension": ".py",
   "mimetype": "text/x-python",
   "name": "python",
   "nbconvert_exporter": "python",
   "pygments_lexer": "ipython3",
   "version": "3.13.2"
  }
 },
 "nbformat": 4,
 "nbformat_minor": 5
}
